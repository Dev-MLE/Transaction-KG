{
 "cells": [
  {
   "cell_type": "markdown",
   "id": "4c310eee",
   "metadata": {},
   "source": [
    "### Here is How We Can Build Complete Knowledge Graph for Multiple Record Sheets From Same File, To see content of Your file run the details.py."
   ]
  },
  {
   "cell_type": "markdown",
   "id": "93bf6428",
   "metadata": {},
   "source": [
    "##  Install Dependencies"
   ]
  },
  {
   "cell_type": "code",
   "execution_count": null,
   "id": "8653aa10",
   "metadata": {
    "vscode": {
     "languageId": "plaintext"
    }
   },
   "outputs": [],
   "source": [
    "!pip install pandas neo4j openpyxl"
   ]
  },
  {
   "cell_type": "markdown",
   "id": "6fd35bdc",
   "metadata": {},
   "source": [
    "## Import Libraries"
   ]
  },
  {
   "cell_type": "code",
   "execution_count": null,
   "id": "5e86b64e",
   "metadata": {
    "vscode": {
     "languageId": "plaintext"
    }
   },
   "outputs": [],
   "source": [
    "import pandas as pd\n",
    "import re\n",
    "from neo4j import GraphDatabase\n",
    "from google.colab import files\n"
   ]
  },
  {
   "cell_type": "markdown",
   "id": "0f3e2a4a",
   "metadata": {},
   "source": [
    "## Upload File At Run Time"
   ]
  },
  {
   "cell_type": "code",
   "execution_count": null,
   "id": "fd403453",
   "metadata": {
    "vscode": {
     "languageId": "plaintext"
    }
   },
   "outputs": [],
   "source": [
    "uploaded = files.upload()\n",
    "file_name = list(uploaded.keys())[0]\n",
    "\n",
    "with open(file_name, \"r\") as f:\n",
    "    content = f.read()\n",
    "\n",
    "uri = re.search(r\"NEO4J_URI=(.*)\", content).group(1).strip()\n",
    "user = re.search(r\"NEO4J_USERNAME=(.*)\", content).group(1).strip()\n",
    "password = re.search(r\"NEO4J_PASSWORD=(.*)\", content).group(1).strip()\n",
    "\n",
    "print(\"Credentials loaded\")"
   ]
  },
  {
   "cell_type": "markdown",
   "id": "cb552cd9",
   "metadata": {},
   "source": [
    "## Set KG Manager Instance"
   ]
  },
  {
   "cell_type": "code",
   "execution_count": null,
   "id": "6d2d3916",
   "metadata": {
    "vscode": {
     "languageId": "plaintext"
    }
   },
   "outputs": [],
   "source": [
    "class KGManager:\n",
    "    def __init__(self, uri, user, password):\n",
    "        self.driver = GraphDatabase.driver(uri, auth=(user, password))\n",
    "\n",
    "    def close(self):\n",
    "        self.driver.close()\n",
    "\n",
    "    def clear_database(self):\n",
    "        with self.driver.session() as session:\n",
    "            session.run(\"MATCH (n) DETACH DELETE n\")\n",
    "        print(\"🧹 Previous KG cleared.\")\n",
    "\n",
    "    def create_constraints(self):\n",
    "        with self.driver.session() as session:\n",
    "            queries = [\n",
    "                \"CREATE CONSTRAINT account_code IF NOT EXISTS FOR (a:Account) REQUIRE a.code IS UNIQUE\",\n",
    "                \"CREATE CONSTRAINT transaction_voucher IF NOT EXISTS FOR (t:Transaction) REQUIRE t.voucher_no IS UNIQUE\",\n",
    "                \"CREATE CONSTRAINT amount_id IF NOT EXISTS FOR (amt:Amount) REQUIRE amt.id IS UNIQUE\",\n",
    "                \"CREATE CONSTRAINT month_val IF NOT EXISTS FOR (m:Month) REQUIRE m.value IS UNIQUE\",\n",
    "                \"CREATE CONSTRAINT supplier_name IF NOT EXISTS FOR (s:Supplier) REQUIRE s.name IS UNIQUE\",\n",
    "                \"CREATE CONSTRAINT customer_name IF NOT EXISTS FOR (c:Customer) REQUIRE c.name IS UNIQUE\",\n",
    "                \"CREATE CONSTRAINT sku_name IF NOT EXISTS FOR (sku:SKU) REQUIRE sku.name IS UNIQUE\"\n",
    "            ]\n",
    "            for q in queries:\n",
    "                session.run(q)\n",
    "        print(\"Constraints created.\")"
   ]
  },
  {
   "cell_type": "markdown",
   "id": "a87c0b07",
   "metadata": {},
   "source": [
    "## Import Functions Required To Get Record From Multiple Sheets"
   ]
  },
  {
   "cell_type": "code",
   "execution_count": null,
   "id": "940cf917",
   "metadata": {
    "vscode": {
     "languageId": "plaintext"
    }
   },
   "outputs": [],
   "source": [
    "\n",
    "    # Import functions \n",
    "    def import_gl_finance(self, df):\n",
    "        query = \"\"\"\n",
    "        UNWIND $rows AS row\n",
    "        MERGE (acc:Account {code: row.`Account Code`})\n",
    "          SET acc.name = row.`Account Name`, acc.class = row.`Class Name`\n",
    "        MERGE (t:Transaction {voucher_no: row.`Voucher No`})\n",
    "          SET t.date = date(row.`Transaction Date`), t.description = row.Description\n",
    "        MERGE (m:Month {value: row.Month})\n",
    "        MERGE (t)-[:OCCURRED_IN]->(m)\n",
    "        FOREACH (_ IN CASE WHEN row.`Debit Amount` > 0 THEN [1] ELSE [] END |\n",
    "            MERGE (amt:Amount {id: row.`Voucher No` + \"-D-\" + row.`Account Code`})\n",
    "              SET amt.type = \"Debit\", amt.value = row.`Debit Amount`\n",
    "            MERGE (t)-[:HAS_DEBIT]->(amt)\n",
    "            MERGE (amt)-[:TO]->(acc)\n",
    "        )\n",
    "        FOREACH (_ IN CASE WHEN row.`Credit Amount` > 0 THEN [1] ELSE [] END |\n",
    "            MERGE (amt:Amount {id: row.`Voucher No` + \"-C-\" + row.`Account Code`})\n",
    "              SET amt.type = \"Credit\", amt.value = row.`Credit Amount`\n",
    "            MERGE (t)-[:HAS_CREDIT]->(amt)\n",
    "            MERGE (amt)-[:FROM]->(acc)\n",
    "        )\n",
    "        \"\"\"\n",
    "        self._run_query(df, query)\n",
    "\n",
    "    def import_grn(self, df):\n",
    "        query = \"\"\"\n",
    "        UNWIND $rows AS row\n",
    "        MERGE (grn:GRN {number: row.GrnNumber})\n",
    "          SET grn.date = date(row.GrnDate)\n",
    "        MERGE (s:Supplier {name: row.SupplierName})\n",
    "        MERGE (sku:SKU {name: row.SkuName})\n",
    "        MERGE (w:Warehouse {name: row.WarehouseName})\n",
    "        MERGE (grn)-[:FROM_SUPPLIER]->(s)\n",
    "        MERGE (grn)-[:CONTAINS]->(sku)\n",
    "        MERGE (grn)-[:STORED_IN]->(w)\n",
    "        SET sku.qty = row.GrnItemQty\n",
    "        \"\"\"\n",
    "        self._run_query(df, query)\n",
    "\n",
    "    def import_purchase(self, df):\n",
    "        query = \"\"\"\n",
    "        UNWIND $rows AS row\n",
    "        MERGE (p:Purchase {invoice: row.InvoiceNumber})\n",
    "          SET p.date = date(row.InvoiceDate), p.amount = row.NetAmount\n",
    "        MERGE (s:Supplier {name: row.SupplierName})\n",
    "        MERGE (sku:SKU {name: row.SkuName})\n",
    "        MERGE (p)-[:FROM_SUPPLIER]->(s)\n",
    "        MERGE (p)-[:CONTAINS]->(sku)\n",
    "        SET sku.price = row.POItemUnitPrice, sku.qty = row.GRNItemQty\n",
    "        \"\"\"\n",
    "        self._run_query(df, query)\n",
    "\n",
    "    def import_purchase_return(self, df):\n",
    "        query = \"\"\"\n",
    "        UNWIND $rows AS row\n",
    "        MERGE (pr:PurchaseReturn {number: row.ReturnNumber})\n",
    "          SET pr.date = date(row.ReturnDate), pr.amount = row.amount\n",
    "        MERGE (s:Supplier {name: row.SupplierName})\n",
    "        MERGE (sku:SKU {name: row.SkuName})\n",
    "        MERGE (pr)-[:RETURNED_TO]->(s)\n",
    "        MERGE (pr)-[:RETURNED_ITEM]->(sku)\n",
    "        SET sku.return_qty = row.ReturnQty, sku.po_qty = row.POQty\n",
    "        \"\"\"\n",
    "        self._run_query(df, query)\n",
    "\n",
    "    def import_sale(self, df):\n",
    "        query = \"\"\"\n",
    "        UNWIND $rows AS row\n",
    "        MERGE (s:Sale {invoice: row.InvoiceNumber})\n",
    "          SET s.date = date(row.DeliveryDate), s.amount = row.TotalNetAmount\n",
    "        MERGE (c:Customer {name: row.CustomerName})\n",
    "        MERGE (sku:SKU {name: row.SkuName})\n",
    "        MERGE (s)-[:TO_CUSTOMER]->(c)\n",
    "        MERGE (s)-[:CONTAINS]->(sku)\n",
    "        SET sku.cartons = row.NoOfCartons\n",
    "        \"\"\"\n",
    "        self._run_query(df, query)\n",
    "\n",
    "    def import_sale_return(self, df):\n",
    "        query = \"\"\"\n",
    "        UNWIND $rows AS row\n",
    "        MERGE (sr:SaleReturn {number: row.SRNumber})\n",
    "          SET sr.date = date(row.ReturnDate), sr.amount = row.Amount\n",
    "        MERGE (c:Customer {name: row.CustomerName})\n",
    "        MERGE (sku:SKU {name: row.SkuName})\n",
    "        MERGE (sr)-[:FROM_CUSTOMER]->(c)\n",
    "        MERGE (sr)-[:RETURNED_ITEM]->(sku)\n",
    "        SET sku.return_qty = row.ReturnQty, sku.cost_price = row.CostPrice\n",
    "        \"\"\"\n",
    "        self._run_query(df, query)\n",
    "\n",
    "    def _run_query(self, df, query, batch_size=300):\n",
    "        df = df.copy()\n",
    "        if \"Transaction Date\" in df.columns:\n",
    "            df[\"Transaction Date\"] = pd.to_datetime(df[\"Transaction Date\"], errors=\"coerce\").dt.strftime(\"%Y-%m-%d\")\n",
    "            df[\"Month\"] = pd.to_datetime(df[\"Transaction Date\"], errors=\"coerce\").dt.to_period(\"M\").astype(str)\n",
    "        if \"GrnDate\" in df.columns:\n",
    "            df[\"GrnDate\"] = pd.to_datetime(df[\"GrnDate\"], errors=\"coerce\").dt.strftime(\"%Y-%m-%d\")\n",
    "        if \"InvoiceDate\" in df.columns:\n",
    "            df[\"InvoiceDate\"] = pd.to_datetime(df[\"InvoiceDate\"], errors=\"coerce\").dt.strftime(\"%Y-%m-%d\")\n",
    "        if \"ReturnDate\" in df.columns:\n",
    "            df[\"ReturnDate\"] = pd.to_datetime(df[\"ReturnDate\"], errors=\"coerce\").dt.strftime(\"%Y-%m-%d\")\n",
    "        if \"DeliveryDate\" in df.columns:\n",
    "            df[\"DeliveryDate\"] = pd.to_datetime(df[\"DeliveryDate\"], errors=\"coerce\").dt.strftime(\"%Y-%m-%d\")\n",
    "\n",
    "        records = df.to_dict(\"records\")\n",
    "        with self.driver.session() as session:\n",
    "            for start in range(0, len(records), batch_size):\n",
    "                end = start + batch_size\n",
    "                session.run(query, rows=records[start:end])\n",
    "                print(f\"Batch {start}-{end} imported.\")"
   ]
  },
  {
   "cell_type": "markdown",
   "id": "4deed1ef",
   "metadata": {},
   "source": [
    "## Upload Data File, EXCEL File"
   ]
  },
  {
   "cell_type": "code",
   "execution_count": null,
   "id": "3d305f9a",
   "metadata": {
    "vscode": {
     "languageId": "plaintext"
    }
   },
   "outputs": [],
   "source": [
    "# Upload Excel\n",
    "\n",
    "uploaded = files.upload()\n",
    "excel_file = list(uploaded.keys())[0]\n",
    "sheets = pd.read_excel(excel_file, sheet_name=None)\n",
    "\n",
    "kg = KGManager(uri, user, password)\n",
    "kg.clear_database()\n",
    "kg.create_constraints()\n",
    "\n",
    "print(f\"Sheets found: {list(sheets.keys())}\")"
   ]
  },
  {
   "cell_type": "markdown",
   "id": "7a77969c",
   "metadata": {},
   "source": [
    "## These are sheets in the given excel file, You can change it accordingly with your own sheets names."
   ]
  },
  {
   "cell_type": "code",
   "execution_count": null,
   "id": "9c463b2f",
   "metadata": {
    "vscode": {
     "languageId": "plaintext"
    }
   },
   "outputs": [],
   "source": [
    "\n",
    "# Import all sheets\n",
    "\n",
    "for sheet_name, df in sheets.items():\n",
    "    if sheet_name == \"GL_Finance_Data\":\n",
    "        kg.import_gl_finance(df)\n",
    "        print(\"Imported GL_Finance_Data \")\n",
    "    elif sheet_name == \"GRN\":\n",
    "        kg.import_grn(df)\n",
    "        print(\"Imported GRN \")\n",
    "    elif sheet_name == \"Purchase\":\n",
    "        kg.import_purchase(df)\n",
    "        print(\"Imported Purchase \")\n",
    "    elif sheet_name == \"Purchase Return\":\n",
    "        kg.import_purchase_return(df)\n",
    "        print(\"Imported Purchase Return \")\n",
    "    elif sheet_name == \"Sale\":\n",
    "        kg.import_sale(df)\n",
    "        print(\"Imported Sale \")\n",
    "    elif sheet_name == \"Sale Return\":\n",
    "        kg.import_sale_return(df)\n",
    "        print(\"Imported Sale Return \")\n",
    "    else:\n",
    "        print(f\"Skipping {sheet_name}, no mapping defined.\")\n",
    "\n",
    "kg.close()\n",
    "print(\"Knowledge Graph import complete!\")\n"
   ]
  }
 ],
 "metadata": {
  "language_info": {
   "name": "python"
  }
 },
 "nbformat": 4,
 "nbformat_minor": 5
}
